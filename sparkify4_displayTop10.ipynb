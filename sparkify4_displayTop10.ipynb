{
 "cells": [
  {
   "cell_type": "code",
   "execution_count": 2,
   "id": "b2beee46",
   "metadata": {},
   "outputs": [
    {
     "name": "stdout",
     "output_type": "stream",
     "text": [
      "Number of clusters running: 3\n"
     ]
    }
   ],
   "source": [
    "# test if the clusters are running\n",
    "\n",
    "from ipyparallel import Client\n",
    "rc = Client()\n",
    "print(\"Number of clusters running:\", len(rc))\n",
    "dview = rc[:]"
   ]
  },
  {
   "cell_type": "markdown",
   "id": "0fe119e1",
   "metadata": {},
   "source": [
    "Import necessary libraries at once"
   ]
  },
  {
   "cell_type": "code",
   "execution_count": 3,
   "id": "c438b829",
   "metadata": {},
   "outputs": [],
   "source": [
    "import boto3\n",
    "import smart_open\n",
    "import ast\n",
    "import pandas as pd\n",
    "from collections import Counter"
   ]
  },
  {
   "cell_type": "markdown",
   "id": "77091265",
   "metadata": {},
   "source": [
    "Collect all the keys to objects stored in the S3 bucket"
   ]
  },
  {
   "cell_type": "code",
   "execution_count": 4,
   "id": "9f41b513",
   "metadata": {},
   "outputs": [
    {
     "name": "stdout",
     "output_type": "stream",
     "text": [
      "Number of json objects found: 30\n"
     ]
    }
   ],
   "source": [
    "s3_resource = boto3.resource('s3')\n",
    "sparkify3_logs = s3_resource.Bucket('sparkify3-logs')\n",
    "all_keys = []\n",
    "\n",
    "for obj in sparkify3_logs.objects.all():\n",
    "    all_keys.append(obj.key)\n",
    "    \n",
    "print(\"Number of json objects found:\", len(all_keys))"
   ]
  },
  {
   "cell_type": "markdown",
   "id": "e91eed8f",
   "metadata": {},
   "source": [
    "Scatter keys"
   ]
  },
  {
   "cell_type": "code",
   "execution_count": 6,
   "id": "8a7ed639",
   "metadata": {},
   "outputs": [],
   "source": [
    "%%px\n",
    "\n",
    "import boto3\n",
    "import json\n",
    "from collections import Counter\n",
    "import smart_open\n",
    "import ast\n",
    "\n",
    "def counter_test1(keys):\n",
    "    s3_client = boto3.client('s3')\n",
    "    bucket = 'sparkify3-logs'\n",
    "    artistCounter = {}\n",
    "    songCounter = {}\n",
    "    \n",
    "    for key in keys:\n",
    "#         obj = s3_client.get_object(Bucket=bucket, Key=str(key))\n",
    "#         obj = json.loads(obj['Body'].read())\n",
    "        for line in smart_open.smart_open('s3://{}/{}'.format(bucket, key)):\n",
    "            try:\n",
    "                dict_line = ast.literal_eval(line.decode(\"utf-8\"))\n",
    "                try:\n",
    "                    # skip None values\n",
    "                    if dict_line['artist']:\n",
    "                        artistCounter[str(dict_line['artist'])] += 1\n",
    "                except:\n",
    "                    artistCounter[str(dict_line['artist'])] = 1\n",
    "\n",
    "                # repeat for songs\n",
    "                try:\n",
    "                    if dict_line['song']:\n",
    "                        songCounter[str(dict_line['song'])] += 1\n",
    "                except:\n",
    "                    songCounter[str(dict_line['song'])] = 1\n",
    "            except:\n",
    "                pass\n",
    "            \n",
    "    return Counter(artistCounter), Counter(songCounter)\n",
    "    "
   ]
  },
  {
   "cell_type": "code",
   "execution_count": 7,
   "id": "d8cb7750",
   "metadata": {},
   "outputs": [
    {
     "data": {
      "application/vnd.jupyter.widget-view+json": {
       "model_id": "af3af472ba2b4be9b8b9e795ed4f4ed2",
       "version_major": 2,
       "version_minor": 0
      },
      "text/plain": [
       "%px:   0%|          | 0/3 [00:00<?, ?tasks/s]"
      ]
     },
     "metadata": {},
     "output_type": "display_data"
    },
    {
     "name": "stdout",
     "output_type": "stream",
     "text": [
      "Time taken to get all results = 4.8017s\n"
     ]
    }
   ],
   "source": [
    "import time\n",
    "start = time.perf_counter()\n",
    "dview.scatter('keys', all_keys)\n",
    "%px y = [counter_test1(keys)]\n",
    "y = dview.gather('y')\n",
    "\n",
    "print(\"Time taken to get all results = {:.4f}s\".format(time.perf_counter() - start))"
   ]
  },
  {
   "cell_type": "code",
   "execution_count": 8,
   "id": "7e66bca5",
   "metadata": {},
   "outputs": [],
   "source": [
    "artistCounter = Counter({})\n",
    "songCounter = Counter({})\n",
    "\n",
    "for (artists, songs) in y:\n",
    "    artistCounter += artists\n",
    "    songCounter += songs\n",
    "    \n",
    "artistCounter = pd.DataFrame(artistCounter.most_common(10),\n",
    "                            columns = ['Artist Name', 'Count'], index=range(1,11))\n",
    "\n",
    "songCounter = pd.DataFrame(songCounter.most_common(10),\n",
    "                            columns = ['Song Name', 'Count'], index=range(1,11))\n",
    "\n"
   ]
  },
  {
   "cell_type": "code",
   "execution_count": 9,
   "id": "04857403",
   "metadata": {},
   "outputs": [
    {
     "name": "stdout",
     "output_type": "stream",
     "text": [
      "Top 10 Artists\n"
     ]
    },
    {
     "data": {
      "text/html": [
       "<div>\n",
       "<style scoped>\n",
       "    .dataframe tbody tr th:only-of-type {\n",
       "        vertical-align: middle;\n",
       "    }\n",
       "\n",
       "    .dataframe tbody tr th {\n",
       "        vertical-align: top;\n",
       "    }\n",
       "\n",
       "    .dataframe thead th {\n",
       "        text-align: right;\n",
       "    }\n",
       "</style>\n",
       "<table border=\"1\" class=\"dataframe\">\n",
       "  <thead>\n",
       "    <tr style=\"text-align: right;\">\n",
       "      <th></th>\n",
       "      <th>Artist Name</th>\n",
       "      <th>Count</th>\n",
       "    </tr>\n",
       "  </thead>\n",
       "  <tbody>\n",
       "    <tr>\n",
       "      <th>1</th>\n",
       "      <td>Coldplay</td>\n",
       "      <td>58</td>\n",
       "    </tr>\n",
       "    <tr>\n",
       "      <th>2</th>\n",
       "      <td>Kings Of Leon</td>\n",
       "      <td>55</td>\n",
       "    </tr>\n",
       "    <tr>\n",
       "      <th>3</th>\n",
       "      <td>Dwight Yoakam</td>\n",
       "      <td>38</td>\n",
       "    </tr>\n",
       "    <tr>\n",
       "      <th>4</th>\n",
       "      <td>The Black Keys</td>\n",
       "      <td>36</td>\n",
       "    </tr>\n",
       "    <tr>\n",
       "      <th>5</th>\n",
       "      <td>Florence + The Machine</td>\n",
       "      <td>35</td>\n",
       "    </tr>\n",
       "    <tr>\n",
       "      <th>6</th>\n",
       "      <td>Jack Johnson</td>\n",
       "      <td>35</td>\n",
       "    </tr>\n",
       "    <tr>\n",
       "      <th>7</th>\n",
       "      <td>Muse</td>\n",
       "      <td>35</td>\n",
       "    </tr>\n",
       "    <tr>\n",
       "      <th>8</th>\n",
       "      <td>BjÃÂ¶rk</td>\n",
       "      <td>33</td>\n",
       "    </tr>\n",
       "    <tr>\n",
       "      <th>9</th>\n",
       "      <td>The Killers</td>\n",
       "      <td>31</td>\n",
       "    </tr>\n",
       "    <tr>\n",
       "      <th>10</th>\n",
       "      <td>John Mayer</td>\n",
       "      <td>31</td>\n",
       "    </tr>\n",
       "  </tbody>\n",
       "</table>\n",
       "</div>"
      ],
      "text/plain": [
       "               Artist Name  Count\n",
       "1                 Coldplay     58\n",
       "2            Kings Of Leon     55\n",
       "3            Dwight Yoakam     38\n",
       "4           The Black Keys     36\n",
       "5   Florence + The Machine     35\n",
       "6             Jack Johnson     35\n",
       "7                     Muse     35\n",
       "8                 BjÃÂ¶rk     33\n",
       "9              The Killers     31\n",
       "10              John Mayer     31"
      ]
     },
     "metadata": {},
     "output_type": "display_data"
    },
    {
     "name": "stdout",
     "output_type": "stream",
     "text": [
      "\n",
      "\n",
      "Top 10 Songs\n"
     ]
    },
    {
     "data": {
      "text/html": [
       "<div>\n",
       "<style scoped>\n",
       "    .dataframe tbody tr th:only-of-type {\n",
       "        vertical-align: middle;\n",
       "    }\n",
       "\n",
       "    .dataframe tbody tr th {\n",
       "        vertical-align: top;\n",
       "    }\n",
       "\n",
       "    .dataframe thead th {\n",
       "        text-align: right;\n",
       "    }\n",
       "</style>\n",
       "<table border=\"1\" class=\"dataframe\">\n",
       "  <thead>\n",
       "    <tr style=\"text-align: right;\">\n",
       "      <th></th>\n",
       "      <th>Song Name</th>\n",
       "      <th>Count</th>\n",
       "    </tr>\n",
       "  </thead>\n",
       "  <tbody>\n",
       "    <tr>\n",
       "      <th>1</th>\n",
       "      <td>You're The One</td>\n",
       "      <td>37</td>\n",
       "    </tr>\n",
       "    <tr>\n",
       "      <th>2</th>\n",
       "      <td>Undo</td>\n",
       "      <td>28</td>\n",
       "    </tr>\n",
       "    <tr>\n",
       "      <th>3</th>\n",
       "      <td>Revelry</td>\n",
       "      <td>27</td>\n",
       "    </tr>\n",
       "    <tr>\n",
       "      <th>4</th>\n",
       "      <td>Sehr kosmisch</td>\n",
       "      <td>21</td>\n",
       "    </tr>\n",
       "    <tr>\n",
       "      <th>5</th>\n",
       "      <td>Horn Concerto No. 4 in E flat K495: II. Romanc...</td>\n",
       "      <td>19</td>\n",
       "    </tr>\n",
       "    <tr>\n",
       "      <th>6</th>\n",
       "      <td>Secrets</td>\n",
       "      <td>17</td>\n",
       "    </tr>\n",
       "    <tr>\n",
       "      <th>7</th>\n",
       "      <td>Canada</td>\n",
       "      <td>17</td>\n",
       "    </tr>\n",
       "    <tr>\n",
       "      <th>8</th>\n",
       "      <td>Dog Days Are Over (Radio Edit)</td>\n",
       "      <td>16</td>\n",
       "    </tr>\n",
       "    <tr>\n",
       "      <th>9</th>\n",
       "      <td>ReprÃÂ©sente</td>\n",
       "      <td>14</td>\n",
       "    </tr>\n",
       "    <tr>\n",
       "      <th>10</th>\n",
       "      <td>Invalid</td>\n",
       "      <td>14</td>\n",
       "    </tr>\n",
       "  </tbody>\n",
       "</table>\n",
       "</div>"
      ],
      "text/plain": [
       "                                            Song Name  Count\n",
       "1                                      You're The One     37\n",
       "2                                                Undo     28\n",
       "3                                             Revelry     27\n",
       "4                                       Sehr kosmisch     21\n",
       "5   Horn Concerto No. 4 in E flat K495: II. Romanc...     19\n",
       "6                                             Secrets     17\n",
       "7                                              Canada     17\n",
       "8                      Dog Days Are Over (Radio Edit)     16\n",
       "9                                       ReprÃÂ©sente     14\n",
       "10                                            Invalid     14"
      ]
     },
     "metadata": {},
     "output_type": "display_data"
    }
   ],
   "source": [
    "pd.options.display.width = 0\n",
    "print(\"Top 10 Artists\")\n",
    "display(artistCounter)\n",
    "\n",
    "print(\"\\n\\nTop 10 Songs\")\n",
    "display(songCounter)"
   ]
  },
  {
   "cell_type": "code",
   "execution_count": null,
   "id": "c4be4ff9",
   "metadata": {},
   "outputs": [],
   "source": []
  }
 ],
 "metadata": {
  "kernelspec": {
   "display_name": "Python 3 (ipykernel)",
   "language": "python",
   "name": "python3"
  },
  "language_info": {
   "codemirror_mode": {
    "name": "ipython",
    "version": 3
   },
   "file_extension": ".py",
   "mimetype": "text/x-python",
   "name": "python",
   "nbconvert_exporter": "python",
   "pygments_lexer": "ipython3",
   "version": "3.10.6"
  }
 },
 "nbformat": 4,
 "nbformat_minor": 5
}
